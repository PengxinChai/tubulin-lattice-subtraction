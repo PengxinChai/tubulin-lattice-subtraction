{
 "cells": [
  {
   "cell_type": "code",
   "execution_count": 20,
   "id": "02dc1382-9cdf-4124-a743-4d4a640aa93d",
   "metadata": {},
   "outputs": [
    {
     "name": "stdout",
     "output_type": "stream",
     "text": [
      "Looking in links: /var/folders/kg/k6zd0k716gx82t5t6qmvnvxr0000gq/T/tmpvaaqcosb\n",
      "Requirement already satisfied: pip in /programs/i386-mac/jupyterlab/4.4.0/.pixi/envs/default/lib/python3.13/site-packages (25.0.1)\n",
      "Requirement already satisfied: mrcfile in /programs/i386-mac/jupyterlab/4.4.0/.pixi/envs/default/lib/python3.13/site-packages (1.5.4)\n",
      "Requirement already satisfied: numpy>=1.16.0 in /programs/i386-mac/jupyterlab/4.4.0/.pixi/envs/default/lib/python3.13/site-packages (from mrcfile) (2.2.5)\n",
      "\n",
      "\u001b[1m[\u001b[0m\u001b[34;49mnotice\u001b[0m\u001b[1;39;49m]\u001b[0m\u001b[39;49m A new release of pip is available: \u001b[0m\u001b[31;49m25.0.1\u001b[0m\u001b[39;49m -> \u001b[0m\u001b[32;49m25.1\u001b[0m\n",
      "\u001b[1m[\u001b[0m\u001b[34;49mnotice\u001b[0m\u001b[1;39;49m]\u001b[0m\u001b[39;49m To update, run: \u001b[0m\u001b[32;49m/programs/i386-mac/jupyterlab/4.4.0/.pixi/envs/default/bin/python -m pip install --upgrade pip\u001b[0m\n",
      "Requirement already satisfied: scipy in /programs/i386-mac/jupyterlab/4.4.0/.pixi/envs/default/lib/python3.13/site-packages (1.15.2)\n",
      "Requirement already satisfied: numpy<2.5,>=1.23.5 in /programs/i386-mac/jupyterlab/4.4.0/.pixi/envs/default/lib/python3.13/site-packages (from scipy) (2.2.5)\n",
      "\n",
      "\u001b[1m[\u001b[0m\u001b[34;49mnotice\u001b[0m\u001b[1;39;49m]\u001b[0m\u001b[39;49m A new release of pip is available: \u001b[0m\u001b[31;49m25.0.1\u001b[0m\u001b[39;49m -> \u001b[0m\u001b[32;49m25.1\u001b[0m\n",
      "\u001b[1m[\u001b[0m\u001b[34;49mnotice\u001b[0m\u001b[1;39;49m]\u001b[0m\u001b[39;49m To update, run: \u001b[0m\u001b[32;49m/programs/i386-mac/jupyterlab/4.4.0/.pixi/envs/default/bin/python -m pip install --upgrade pip\u001b[0m\n"
     ]
    }
   ],
   "source": [
    "## install packages\n",
    "\n",
    "import ensurepip\n",
    "ensurepip.bootstrap()\n",
    "\n",
    "import sys\n",
    "!{sys.executable} -m pip install mrcfile\n",
    "!{sys.executable} -m pip install scipy\n"
   ]
  },
  {
   "cell_type": "code",
   "execution_count": 58,
   "id": "4cd5b0bf-26df-4e54-ab57-d8991b0a07ec",
   "metadata": {},
   "outputs": [],
   "source": [
    "import mrcfile\n",
    "import numpy as np\n",
    "from scipy.ndimage import gaussian_filter"
   ]
  },
  {
   "cell_type": "code",
   "execution_count": 61,
   "id": "8473faa8-d9e5-473d-9a23-8ea689f87491",
   "metadata": {},
   "outputs": [],
   "source": [
    "## Use mrcfile package to create a rectangle mask for mrc_2d_curve_weaken\n",
    "\n",
    "pixel_size = 0.94 # in Angstrom\n",
    "\n",
    "# the filament you work on\n",
    "filament_diameter = 90 # in Angstrom\n",
    "repeating_unit = 10 # in Angstrom, repeating unit length along filament major axis\n",
    "\n",
    "# boxsize, you need to calculate by yourself, set a size like 1.5 to 1.6 times pixels larger than the filament diameter \n",
    "box_size_x = int (filament_diameter/pixel_size * 1.5)\n",
    "box_size_y = int (repeating_unit/pixel_size)\n",
    "\n",
    "if box_size_x % 2 == 0:\n",
    "    box_size_x = box_size_x\n",
    "else:\n",
    "    box_size_x = box_size_x + 1\n",
    "\n",
    "if box_size_y % 2 == 0:\n",
    "    box_size_y = box_size_y\n",
    "else:\n",
    "    box_size_y = box_size_y + 1\n",
    "\n",
    "## create a numpu array \n",
    "mask = np.zeros((box_size_y, box_size_x), dtype=np.float32)\n",
    "\n",
    "# Define rectangular mask area, cover the filament\n",
    "# the mask should be a little bigger than the actuall filament diameter, here is 1.2 times bigger \n",
    "filament_diameter_large = filament_diameter*1.2\n",
    "filament_diameter_large_pixel = filament_diameter_large/pixel_size\n",
    "x_start = int (box_size_x/2 - filament_diameter_large_pixel/2)\n",
    "x_end = int (box_size_x/2 + filament_diameter_large_pixel/2 )\n",
    "\n",
    "\n",
    "# Set rectangular region to 1.0\n",
    "mask[0:box_size_y, x_start:x_end] = 1.0\n",
    "\n",
    "# soften edges using Gaussian blur\n",
    "# adjust sigma for softness, 2 is quite good\n",
    "mask = gaussian_filter(mask, sigma=2)  \n",
    "\n",
    "# Save to MRC file\n",
    "with mrcfile.new('rectangular_mask.mrc', overwrite=True) as mrc:\n",
    "    mrc.set_data(mask)\n",
    "    mrc.voxel_size = pixel_size"
   ]
  }
 ],
 "metadata": {
  "kernelspec": {
   "display_name": "Python 3 (ipykernel)",
   "language": "python",
   "name": "python3"
  },
  "language_info": {
   "codemirror_mode": {
    "name": "ipython",
    "version": 3
   },
   "file_extension": ".py",
   "mimetype": "text/x-python",
   "name": "python",
   "nbconvert_exporter": "python",
   "pygments_lexer": "ipython3",
   "version": "3.13.3"
  }
 },
 "nbformat": 4,
 "nbformat_minor": 5
}
